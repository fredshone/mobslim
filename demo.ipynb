{
 "cells": [
  {
   "cell_type": "code",
   "execution_count": 1,
   "id": "fc71f6ae",
   "metadata": {},
   "outputs": [],
   "source": [
    "import heapq\n",
    "\n",
    "from mobslim.agents import ActivityType, Plan\n",
    "from mobslim.expected import SimpleExpectedDurations\n",
    "from mobslim.listener import EventListener\n",
    "from mobslim.network import Grid\n",
    "from mobslim.optimizer import Optimizer\n",
    "from mobslim.planner import Planner, StaticRouter\n",
    "from mobslim.sim import Sim"
   ]
  },
  {
   "cell_type": "code",
   "execution_count": 2,
   "id": "703dbbb2",
   "metadata": {},
   "outputs": [
    {
     "name": "stdout",
     "output_type": "stream",
     "text": [
      "X---X---X---X---X---X\n",
      "|   |   |   |   |   |\n",
      "X---X---X---X---X---X\n",
      "|   |   |   |   |   |\n",
      "X---X---X---X---X---X\n",
      "|   |   |   |   |   |\n",
      "X---X---X---X---X---X\n",
      "|   |   |   |   |   |\n",
      "X---X---X---X---X---X\n",
      "|   |   |   |   |   |\n",
      "X---X---X---X---X---X\n",
      "\n"
     ]
    }
   ],
   "source": [
    "AGENTS = 20\n",
    "SIZE = 5  # Size of the grid network\n",
    "MAX_RUNS = 20  # Maximum number of runs for the simulation\n",
    "\n",
    "# network setup\n",
    "network = Grid(size=SIZE)\n",
    "o = network.get_start()\n",
    "d = network.get_end()\n",
    "print(network)"
   ]
  },
  {
   "cell_type": "code",
   "execution_count": 3,
   "id": "949ef083",
   "metadata": {},
   "outputs": [],
   "source": [
    "# agent setup\n",
    "plans = {}\n",
    "for i in range(AGENTS):\n",
    "    plan = Plan()\n",
    "    plan.add_activity(type=ActivityType.HOME, location=o, duration=0)\n",
    "    plan.add_trip(origin=o, destination=d, start_time=0)\n",
    "    plan.add_activity(type=ActivityType.WORK, location=d, duration=0)\n",
    "    plan.finish()\n",
    "    plans[i] = plan"
   ]
  },
  {
   "cell_type": "code",
   "execution_count": 4,
   "id": "b9d88896",
   "metadata": {},
   "outputs": [],
   "source": [
    "# replanner setup\n",
    "expected_link_durations = SimpleExpectedDurations(network.G)\n",
    "router = StaticRouter(network=network, expectations=expected_link_durations)\n",
    "replanner = Planner()\n",
    "\n",
    "replanner.plan(plans, router, p=1.0)"
   ]
  },
  {
   "cell_type": "code",
   "execution_count": 5,
   "id": "40e7c6c9",
   "metadata": {},
   "outputs": [
    {
     "name": "stdout",
     "output_type": "stream",
     "text": [
      "Run 0: Av. trip duration: 101.32, Av. trip length: 50.0, Av. link speed: 0.49416961130742043\n",
      "\n",
      "Run 1: Av. trip duration: 101.88, Av. trip length: 50.0, Av. link speed: 0.492421627840092\n",
      "\n",
      "Run 2: Av. trip duration: 217.62, Av. trip length: 50.0, Av. link speed: 0.3814926613533161\n",
      "\n",
      "Run 3: Av. trip duration: 253.84, Av. trip length: 50.0, Av. link speed: 0.3198806262098387\n",
      "\n",
      "Run 4: Av. trip duration: 529.66, Av. trip length: 50.0, Av. link speed: 0.2592028713589343\n",
      "\n",
      "Run 5: Av. trip duration: 749.74, Av. trip length: 50.0, Av. link speed: 0.1813948055530628\n",
      "\n",
      "Run 6: Av. trip duration: 1511.234285714286, Av. trip length: 50.0, Av. link speed: 0.1536599788767291\n",
      "\n",
      "Run 7: Av. trip duration: 1877.1438095238095, Av. trip length: 50.0, Av. link speed: 0.058540997873699166\n",
      "\n",
      "Run 8: Av. trip duration: 3888.654476190477, Av. trip length: 50.0, Av. link speed: 0.030776400843860942\n",
      "\n",
      "Run 9: Av. trip duration: 6696.733384262795, Av. trip length: 50.0, Av. link speed: 0.04984274309546978\n",
      "\n",
      "Run 10: Av. trip duration: 8708.131362889984, Av. trip length: 50.0, Av. link speed: 0.05689121027317626\n",
      "\n",
      "Run 11: Av. trip duration: 11590.022591362125, Av. trip length: 50.0, Av. link speed: 0.10781948884898668\n",
      "\n",
      "Run 12: Av. trip duration: 20295.432799581373, Av. trip length: 50.0, Av. link speed: 0.004236300695393607\n",
      "\n"
     ]
    },
    {
     "ename": "IndexError",
     "evalue": "list index out of range",
     "output_type": "error",
     "traceback": [
      "\u001b[31m---------------------------------------------------------------------------\u001b[39m",
      "\u001b[31mIndexError\u001b[39m                                Traceback (most recent call last)",
      "\u001b[36mCell\u001b[39m\u001b[36m \u001b[39m\u001b[32mIn[5]\u001b[39m\u001b[32m, line 12\u001b[39m\n\u001b[32m     10\u001b[39m \u001b[38;5;66;03m# optimizer setup\u001b[39;00m\n\u001b[32m     11\u001b[39m optimizer = Optimizer(sim=sim, plans=plans, router=router, replanner=replanner)\n\u001b[32m---> \u001b[39m\u001b[32m12\u001b[39m \u001b[43moptimizer\u001b[49m\u001b[43m.\u001b[49m\u001b[43mrun\u001b[49m\u001b[43m(\u001b[49m\u001b[43mmax_runs\u001b[49m\u001b[43m=\u001b[49m\u001b[43mMAX_RUNS\u001b[49m\u001b[43m)\u001b[49m\n",
      "\u001b[36mFile \u001b[39m\u001b[32m~/Projects/mobslim/mobslim/optimizer.py:28\u001b[39m, in \u001b[36mOptimizer.run\u001b[39m\u001b[34m(self, max_runs)\u001b[39m\n\u001b[32m     25\u001b[39m \u001b[38;5;28;01mfor\u001b[39;00m i \u001b[38;5;129;01min\u001b[39;00m \u001b[38;5;28mrange\u001b[39m(max_runs):\n\u001b[32m     27\u001b[39m     \u001b[38;5;28mself\u001b[39m.sim.reset(plans=\u001b[38;5;28mself\u001b[39m.plans)\n\u001b[32m---> \u001b[39m\u001b[32m28\u001b[39m     events = \u001b[38;5;28;43mself\u001b[39;49m\u001b[43m.\u001b[49m\u001b[43msim\u001b[49m\u001b[43m.\u001b[49m\u001b[43mrun\u001b[49m\u001b[43m(\u001b[49m\u001b[43m)\u001b[49m\n\u001b[32m     30\u001b[39m     \u001b[38;5;66;03m# update expected durations based on events\u001b[39;00m\n\u001b[32m     31\u001b[39m     \u001b[38;5;28mself\u001b[39m.router.update(\u001b[38;5;28mself\u001b[39m.plans, \u001b[38;5;28mself\u001b[39m.sim.network, events)\n",
      "\u001b[36mFile \u001b[39m\u001b[32m~/Projects/mobslim/mobslim/sim.py:54\u001b[39m, in \u001b[36mSim.run\u001b[39m\u001b[34m(self, steps)\u001b[39m\n\u001b[32m     52\u001b[39m \u001b[38;5;28;01mdef\u001b[39;00m\u001b[38;5;250m \u001b[39m\u001b[34mrun\u001b[39m(\u001b[38;5;28mself\u001b[39m, steps: \u001b[38;5;28mint\u001b[39m = \u001b[32m86400\u001b[39m):\n\u001b[32m     53\u001b[39m     \u001b[38;5;28;01mwhile\u001b[39;00m \u001b[38;5;28mself\u001b[39m.queue \u001b[38;5;129;01mand\u001b[39;00m \u001b[38;5;28mself\u001b[39m.time < steps:\n\u001b[32m---> \u001b[39m\u001b[32m54\u001b[39m         \u001b[38;5;28;43mself\u001b[39;49m\u001b[43m.\u001b[49m\u001b[43mstep_instruction\u001b[49m\u001b[43m(\u001b[49m\u001b[43m)\u001b[49m\n\u001b[32m     55\u001b[39m     \u001b[38;5;28;01mreturn\u001b[39;00m \u001b[38;5;28mself\u001b[39m.event_listener.log\n",
      "\u001b[36mFile \u001b[39m\u001b[32m~/Projects/mobslim/mobslim/sim.py:79\u001b[39m, in \u001b[36mSim.step_instruction\u001b[39m\u001b[34m(self)\u001b[39m\n\u001b[32m     75\u001b[39m \u001b[38;5;28;01mdef\u001b[39;00m\u001b[38;5;250m \u001b[39m\u001b[34mstep_instruction\u001b[39m(\u001b[38;5;28mself\u001b[39m):\n\u001b[32m     77\u001b[39m     \u001b[38;5;28mself\u001b[39m.time, agent_id, (instruction_a, instruction_b) = heapq.heappop(\u001b[38;5;28mself\u001b[39m.queue)\n\u001b[32m---> \u001b[39m\u001b[32m79\u001b[39m     \u001b[38;5;28;01mif\u001b[39;00m \u001b[38;5;129;01mnot\u001b[39;00m \u001b[38;5;28;43mself\u001b[39;49m\u001b[43m.\u001b[49m\u001b[43mcan_exit\u001b[49m\u001b[43m(\u001b[49m\u001b[43magent_id\u001b[49m\u001b[43m,\u001b[49m\u001b[43m \u001b[49m\u001b[43minstruction_a\u001b[49m\u001b[43m)\u001b[49m:\n\u001b[32m     80\u001b[39m         \u001b[38;5;66;03m# cannot exit, requeue with a small delay\u001b[39;00m\n\u001b[32m     81\u001b[39m         heapq.heappush(\u001b[38;5;28mself\u001b[39m.queue, (\u001b[38;5;28mself\u001b[39m.time + \u001b[32m1\u001b[39m, agent_id, (instruction_a, instruction_b)))\n\u001b[32m     82\u001b[39m         \u001b[38;5;28;01mreturn\u001b[39;00m\n",
      "\u001b[36mFile \u001b[39m\u001b[32m~/Projects/mobslim/mobslim/sim.py:60\u001b[39m, in \u001b[36mSim.can_exit\u001b[39m\u001b[34m(self, agent_id, instruction_a)\u001b[39m\n\u001b[32m     58\u001b[39m \u001b[38;5;28;01mif\u001b[39;00m instruction_a[\u001b[32m0\u001b[39m] == InstructionType.ExitLink:\n\u001b[32m     59\u001b[39m     _, _, uv, _ = instruction_a\n\u001b[32m---> \u001b[39m\u001b[32m60\u001b[39m     \u001b[38;5;28;01mif\u001b[39;00m \u001b[38;5;28;43mself\u001b[39;49m\u001b[43m.\u001b[49m\u001b[43msim_links\u001b[49m\u001b[43m[\u001b[49m\u001b[43muv\u001b[49m\u001b[43m]\u001b[49m\u001b[43m.\u001b[49m\u001b[43mcan_exit\u001b[49m\u001b[43m(\u001b[49m\u001b[38;5;28;43mself\u001b[39;49m\u001b[43m.\u001b[49m\u001b[43mtime\u001b[49m\u001b[43m)\u001b[49m:\n\u001b[32m     61\u001b[39m         \u001b[38;5;28mself\u001b[39m.sim_links[uv].exit(agent_id, \u001b[38;5;28mself\u001b[39m.time)\n\u001b[32m     62\u001b[39m         \u001b[38;5;28;01mreturn\u001b[39;00m \u001b[38;5;28;01mTrue\u001b[39;00m\n",
      "\u001b[36mFile \u001b[39m\u001b[32m~/Projects/mobslim/mobslim/sim.py:135\u001b[39m, in \u001b[36mSimLink.can_exit\u001b[39m\u001b[34m(self, time)\u001b[39m\n\u001b[32m    134\u001b[39m \u001b[38;5;28;01mdef\u001b[39;00m\u001b[38;5;250m \u001b[39m\u001b[34mcan_exit\u001b[39m(\u001b[38;5;28mself\u001b[39m, time: \u001b[38;5;28mint\u001b[39m) -> \u001b[38;5;28mbool\u001b[39m:\n\u001b[32m--> \u001b[39m\u001b[32m135\u001b[39m     _, _, earliest_exit = \u001b[38;5;28;43mself\u001b[39;49m\u001b[43m.\u001b[49m\u001b[43mqueue\u001b[49m\u001b[43m[\u001b[49m\u001b[32;43m0\u001b[39;49m\u001b[43m]\u001b[49m\n\u001b[32m    136\u001b[39m     \u001b[38;5;28;01mreturn\u001b[39;00m earliest_exit <= time \u001b[38;5;129;01mand\u001b[39;00m \u001b[38;5;28mself\u001b[39m.has_flow_capacity(time)\n",
      "\u001b[31mIndexError\u001b[39m: list index out of range"
     ]
    }
   ],
   "source": [
    "# event planner setup\n",
    "listener = EventListener()\n",
    "\n",
    "# simulation setup\n",
    "sim = Sim(\n",
    "    network=network,\n",
    "    listener=listener,\n",
    ")\n",
    "\n",
    "# optimizer setup\n",
    "optimizer = Optimizer(sim=sim, plans=plans, router=router, replanner=replanner)\n",
    "optimizer.run(max_runs=MAX_RUNS)"
   ]
  },
  {
   "cell_type": "code",
   "execution_count": null,
   "id": "b33e7195",
   "metadata": {},
   "outputs": [],
   "source": []
  },
  {
   "cell_type": "code",
   "execution_count": null,
   "id": "52ee83f9",
   "metadata": {},
   "outputs": [],
   "source": []
  }
 ],
 "metadata": {
  "kernelspec": {
   "display_name": "mobslim",
   "language": "python",
   "name": "python3"
  },
  "language_info": {
   "codemirror_mode": {
    "name": "ipython",
    "version": 3
   },
   "file_extension": ".py",
   "mimetype": "text/x-python",
   "name": "python",
   "nbconvert_exporter": "python",
   "pygments_lexer": "ipython3",
   "version": "3.12.6"
  }
 },
 "nbformat": 4,
 "nbformat_minor": 5
}
